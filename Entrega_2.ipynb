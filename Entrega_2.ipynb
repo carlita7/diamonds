{
  "metadata": {
    "kernelspec": {
      "language": "python",
      "display_name": "Python 3",
      "name": "python3"
    },
    "language_info": {
      "pygments_lexer": "ipython3",
      "nbconvert_exporter": "python",
      "version": "3.6.4",
      "file_extension": ".py",
      "codemirror_mode": {
        "name": "ipython",
        "version": 3
      },
      "name": "python",
      "mimetype": "text/x-python"
    },
    "colab": {
      "provenance": []
    }
  },
  "nbformat_minor": 0,
  "nbformat": 4,
  "cells": [
    {
      "cell_type": "markdown",
      "source": [
        " # <h1 style='background:#682F2F; border:2; border-radius: 10px; font-size:250%; font-weight: bold; color:white'><center>DIAMOND PRICE PREDICTION: REGRESSION</center></h1> \n",
        " \n",
        "\n",
        "<h1 style='background:#682F2F; border:0; border-radius: 10px; color:white'><center>TABLE OF CONTENTS</center></h1>\n",
        "\n",
        "### [**1. IMPORTING LIBRARIES**](#title-one)\n",
        "    \n",
        "### [**2. LOADING DATA**](#title-two)\n",
        "\n",
        "### [**3. DATA ANALYSIS**](#title-three)\n",
        "\n",
        "### [**4. DATA PREPROCESSING**](#title-four)\n",
        "\n",
        "### [**5. MODEL BUILDING**](#title-five) \n",
        "\n",
        "### [**6. END**](#title-six)"
      ],
      "metadata": {
        "id": "Ovu9lUvtuiB0"
      }
    },
    {
      "cell_type": "markdown",
      "source": [
        "<a id = \"title-one\"></a>\n",
        "<h1 style='background:#682F2F; border:0; border-radius: 10px; color:white'><center>IMPORTING LIBRARIES</center></h1>"
      ],
      "metadata": {
        "id": "nQkuvO-muiB1"
      }
    },
    {
      "cell_type": "code",
      "source": [
        "import warnings\n",
        "warnings.filterwarnings('ignore')\n",
        "\n",
        "import numpy as np \n",
        "import pandas as pd \n",
        "import matplotlib.pyplot as plt\n",
        "import seaborn as sns\n",
        "\n",
        "from sklearn.preprocessing import LabelEncoder\n",
        "from sklearn.model_selection import train_test_split\n",
        "from sklearn.preprocessing import StandardScaler\n",
        "from sklearn.pipeline import Pipeline\n",
        "\n",
        "from sklearn.linear_model import LinearRegression\n",
        "from sklearn. linear_model import Lasso\n",
        "from sklearn.tree import DecisionTreeRegressor\n",
        "from sklearn.ensemble import RandomForestRegressor\n",
        "from sklearn.neighbors import KNeighborsRegressor\n",
        "from xgboost import XGBRegressor\n",
        "\n",
        "from sklearn.model_selection import cross_val_score\n",
        "from sklearn.metrics import mean_squared_error\n",
        "from sklearn import metrics "
      ],
      "metadata": {
        "execution": {
          "iopub.status.busy": "2022-04-24T04:57:34.79322Z",
          "iopub.execute_input": "2022-04-24T04:57:34.793552Z",
          "iopub.status.idle": "2022-04-24T04:57:36.575039Z",
          "shell.execute_reply.started": "2022-04-24T04:57:34.793516Z",
          "shell.execute_reply": "2022-04-24T04:57:36.573967Z"
        },
        "trusted": true,
        "id": "vdwPqbp2uiB2"
      },
      "execution_count": null,
      "outputs": []
    },
    {
      "cell_type": "markdown",
      "source": [
        "<a id = \"title-two\"></a>\n",
        "<h1 style='background:#682F2F; border:0; border-radius: 10px; color:white'><center>LOADING DATA</center></h1>\n"
      ],
      "metadata": {
        "id": "PzkKLt-MuiB3"
      }
    },
    {
      "cell_type": "code",
      "source": [
        "data_df = pd.read_csv(\"../input/diamonds/diamonds.csv\")\n",
        "data_df.sample(10)"
      ],
      "metadata": {
        "execution": {
          "iopub.status.busy": "2022-04-24T04:57:42.296243Z",
          "iopub.execute_input": "2022-04-24T04:57:42.296584Z",
          "iopub.status.idle": "2022-04-24T04:57:42.469946Z",
          "shell.execute_reply.started": "2022-04-24T04:57:42.296551Z",
          "shell.execute_reply": "2022-04-24T04:57:42.468718Z"
        },
        "trusted": true,
        "id": "woodqWNiuiB3"
      },
      "execution_count": null,
      "outputs": []
    },
    {
      "cell_type": "markdown",
      "source": [
        "# **<span style=\"color:#682F2F;\"><center>LABELLED DIMENSIONS OF A DIAMOND</center></span>**\n",
        "\n",
        "\n",
        "<div style=\"border-radius:10px;\n",
        "            border : #682F2F solid;\n",
        "            background-color:#FFF8DC;\n",
        "           font-size:110%;\n",
        "            text-align: left\">\n",
        "    \n",
        "## <h2 style='border:0; color:#682F2F'><center>About the data (Description of attributes)</center></h2>\n",
        "\n",
        "**This classic dataset contains the prices and other attributes of almost 54,000 diamonds. There are 10 attributes included in the dataset including the target ie. price.**\n",
        "\n",
        "* **carat (0.2-5.01):** The carat is the diamond’s physical weight measured in metric carats. One carat equals 0.20 gram and is subdivided into 100 points. \n",
        "* **cut (Fair, Good, Very Good, Premium, Ideal):** The quality of the cut. The more precise the diamond is cut, the more captivating the diamond is to the eye thus of high grade. \n",
        "* **color (from J (worst) to D (best)):** The colour of gem-quality diamonds occurs in many hues. In the range from colourless to light yellow or light brown. Colourless diamonds are the rarest. Other natural colours (blue, red, pink for example) are known as \"fancy,” and their colour grading is different than from white colorless diamonds. \n",
        "* **clarity (I1 (worst), SI2, SI1, VS2, VS1, VVS2, VVS1, IF (best)):** Diamonds can have internal characteristics known as inclusions or external characteristics known as blemishes. Diamonds without inclusions or blemishes are rare; however, most characteristics can only be seen with magnification. \n",
        "* **depth (43-79)**: It is the total depth percentage which equals to z / mean(x, y) = 2 * z / (x + y). The depth of the diamond is its height (in millimetres) measured from the culet (bottom tip) to the table (flat, top surface) as referred in the labelled diagram above. \n",
        "* **table (43-95):** It is the width of the top of the diamond relative to widest point. It gives diamond stunning fire and brilliance by reflecting lights to all directions which when seen by an observer, seems lustrous. \n",
        "* **price ($$326 - $18826):** It is the price of the diamond in US dollars. **It is our very target column in the dataset.**\n",
        "* **x (0 - 10.74):** Length of the diamond (in mm) \n",
        "* **y (0 - 58.9):** Width of the diamond (in mm) \n",
        "* **z (0 - 31.8):** Depth of the diamond (in mm) "
      ],
      "metadata": {
        "id": "bhxZ0gzMuiB4"
      }
    },
    {
      "cell_type": "markdown",
      "source": [
        "<a id = \"title-three\"></a>\n",
        "<h1 style='background: #682F2F; border:0; border-radius: 10px; color:white'><center>DATA ANALYSIS</center></h1>"
      ],
      "metadata": {
        "id": "Q5Xsyx8euiB6"
      }
    },
    {
      "cell_type": "markdown",
      "source": [
        "### **<span style=\"color:#682F2F;\"><center>Checking for missing values & categorical variables</center></span>**"
      ],
      "metadata": {
        "id": "Mk_AZAebuiB8"
      }
    },
    {
      "cell_type": "code",
      "source": [
        "# Checking for missing values and categorical variables in the dataset\n",
        "data_df.info()"
      ],
      "metadata": {
        "_kg_hide-input": false,
        "execution": {
          "iopub.status.busy": "2022-04-24T04:57:53.539708Z",
          "iopub.execute_input": "2022-04-24T04:57:53.540046Z",
          "iopub.status.idle": "2022-04-24T04:57:53.586568Z",
          "shell.execute_reply.started": "2022-04-24T04:57:53.540013Z",
          "shell.execute_reply": "2022-04-24T04:57:53.585591Z"
        },
        "trusted": true,
        "id": "laG0kYqGuiB8"
      },
      "execution_count": null,
      "outputs": []
    },
    {
      "cell_type": "markdown",
      "source": [
        "### **<span style=\"color:#682F2F;\">Note: </span>**\n",
        "##### There are 53940 non-null values in all the attributes thus no missing values.\n",
        "##### Datatype of features 'cut', 'color' & 'clarity' is \"object\" which needs to be converted into numerical variable (will be done in data preprocessing) before we feed the data to algorithms. "
      ],
      "metadata": {
        "id": "EUWAwPcQuiB9"
      }
    },
    {
      "cell_type": "markdown",
      "source": [
        "### **<span style=\"color:#682F2F;\"><center>Evaluating categorical features</center></span>**"
      ],
      "metadata": {
        "id": "JzqepRV3uiB9"
      }
    },
    {
      "cell_type": "code",
      "source": [
        "plt.figure(figsize=(10,8))\n",
        "cols = [\"#A0522D\",\"#A52A2A\",\"#CD853F\",\"#F4A460\",\"#DEB887\"]\n",
        "ax = sns.violinplot(x=\"cut\",y=\"price\", data=data_df, palette=cols,scale= \"count\")\n",
        "ax.set_title(\"Diamond Cut for Price\", color=\"#774571\", fontsize = 20)\n",
        "ax.set_ylabel(\"Price\", color=\"#4e4c39\", fontsize = 15)\n",
        "ax.set_xlabel(\"Cut\", color=\"#4e4c39\", fontsize = 15)\n",
        "plt.show()"
      ],
      "metadata": {
        "execution": {
          "iopub.status.busy": "2022-04-24T04:58:10.673476Z",
          "iopub.execute_input": "2022-04-24T04:58:10.673959Z",
          "iopub.status.idle": "2022-04-24T04:58:11.256276Z",
          "shell.execute_reply.started": "2022-04-24T04:58:10.673917Z",
          "shell.execute_reply": "2022-04-24T04:58:11.25499Z"
        },
        "trusted": true,
        "id": "Tg-9CgLUuiB-"
      },
      "execution_count": null,
      "outputs": []
    },
    {
      "cell_type": "code",
      "source": [
        "plt.figure(figsize=(12,8))\n",
        "ax = sns.violinplot(x=\"color\",y=\"price\", data=data_df, palette=cols,scale= \"count\")\n",
        "ax.set_title(\"Diamond Colors for Price\", color=\"#774571\", fontsize = 20)\n",
        "ax.set_ylabel(\"Price\", color=\"#4e4c39\", fontsize = 15)\n",
        "ax.set_xlabel(\"Color\", color=\"#4e4c39\", fontsize = 15)\n",
        "plt.show()"
      ],
      "metadata": {
        "execution": {
          "iopub.status.busy": "2022-04-24T04:58:17.420331Z",
          "iopub.execute_input": "2022-04-24T04:58:17.420675Z",
          "iopub.status.idle": "2022-04-24T04:58:17.935589Z",
          "shell.execute_reply.started": "2022-04-24T04:58:17.420638Z",
          "shell.execute_reply": "2022-04-24T04:58:17.934569Z"
        },
        "trusted": true,
        "id": "ezkrdSX2uiB_"
      },
      "execution_count": null,
      "outputs": []
    },
    {
      "cell_type": "code",
      "source": [
        "plt.figure(figsize=(13,8))\n",
        "ax = sns.violinplot(x=\"clarity\",y=\"price\", data=data_df, palette=cols,scale= \"count\")\n",
        "ax.set_title(\"Diamond Clarity for Price\", color=\"#774571\", fontsize = 20)\n",
        "ax.set_ylabel(\"Price\", color=\"#4e4c39\", fontsize = 15)\n",
        "ax.set_xlabel(\"Clarity\", color=\"#4e4c39\", fontsize = 15)\n",
        "plt.show()"
      ],
      "metadata": {
        "execution": {
          "iopub.status.busy": "2022-04-24T04:58:22.182706Z",
          "iopub.execute_input": "2022-04-24T04:58:22.183095Z",
          "iopub.status.idle": "2022-04-24T04:58:22.758776Z",
          "shell.execute_reply.started": "2022-04-24T04:58:22.183055Z",
          "shell.execute_reply": "2022-04-24T04:58:22.757821Z"
        },
        "trusted": true,
        "id": "Zrs31wf7uiB_"
      },
      "execution_count": null,
      "outputs": []
    },
    {
      "cell_type": "markdown",
      "source": [
        "### **<span style=\"color:#682F2F;\">Note: </span>**\n",
        "##### \"Ideal\" diamond cuts are the most in the number while the \"Fair\" is the least. More diamonds of all of such cuts for lower price category. \n",
        "##### \"J\" color diamond which is worst are most rare however, \"H\" and \"G\" are more in number eventhough they're of inferior quality as well.\n",
        "##### Diamonds of \"IF\" clarity which is best as well as \"I1\" which is worst are very rare and rest are mostly of in-between clarities. "
      ],
      "metadata": {
        "id": "QWXGMtZ1uiCA"
      }
    },
    {
      "cell_type": "markdown",
      "source": [
        "### **<span style=\"color:#682F2F;\"><center>Descriptive Statistics</center></span>**"
      ],
      "metadata": {
        "id": "iBXh8_eIuiCB"
      }
    },
    {
      "cell_type": "code",
      "source": [
        "# Doing Univariate Analysis for statistical description and understanding of dispersion of data\n",
        "data_df.describe().T"
      ],
      "metadata": {
        "execution": {
          "iopub.status.busy": "2022-04-24T04:58:37.101266Z",
          "iopub.execute_input": "2022-04-24T04:58:37.101628Z",
          "iopub.status.idle": "2022-04-24T04:58:37.164187Z",
          "shell.execute_reply.started": "2022-04-24T04:58:37.101595Z",
          "shell.execute_reply": "2022-04-24T04:58:37.163607Z"
        },
        "trusted": true,
        "id": "dshugzZDuiCB"
      },
      "execution_count": null,
      "outputs": []
    },
    {
      "cell_type": "markdown",
      "source": [
        "### **<span style=\"color:#682F2F;\">Note: </span>**\n",
        "##### \"Price\" as expected is right skewed, having more number of data points in left \n",
        "##### Under dimensional features of 'x', 'y' & 'z' - min value is 0 thus making such datapoints either a 1D or 2D diamond object which doesn't make much sense - so needs either to be imputed with appropriate value or dropped altogether."
      ],
      "metadata": {
        "id": "5yXov1E2uiCC"
      }
    },
    {
      "cell_type": "code",
      "source": [
        "#Doing Bivariate Analysis by examaning a pairplot  \n",
        "ax = sns.pairplot(data_df, hue= \"cut\", palette = cols)"
      ],
      "metadata": {
        "execution": {
          "iopub.status.busy": "2022-04-24T04:58:44.54783Z",
          "iopub.execute_input": "2022-04-24T04:58:44.548919Z",
          "iopub.status.idle": "2022-04-24T05:03:01.031893Z",
          "shell.execute_reply.started": "2022-04-24T04:58:44.54885Z",
          "shell.execute_reply": "2022-04-24T05:03:01.027866Z"
        },
        "trusted": true,
        "id": "o9Jx6pAuuiCD"
      },
      "execution_count": null,
      "outputs": []
    },
    {
      "cell_type": "markdown",
      "source": [
        "### **<span style=\"color:#682F2F;\">Note: </span>**\n",
        "##### There's a useless feature \"unnamed\" which is just an index and needs to be eliminated altogether. \n",
        "##### Features are having datapoints that are far from the rest of the dataset (outliers) which needs to be dealth with or else would affect our model.\n",
        "##### \"y\" and \"z\" have some dimensional outliers in our dataset that needs to be eliminated.\n",
        "##### Features \"depth\" & \"table\" should be capped after we confirm by examining the Line plots."
      ],
      "metadata": {
        "id": "lzCv8swruiCD"
      }
    },
    {
      "cell_type": "markdown",
      "source": [
        "### **<span style=\"color:#682F2F;\"><center>Checking for Potential Outliers</center></span>**"
      ],
      "metadata": {
        "id": "2e8Q4amSuiCD"
      }
    },
    {
      "cell_type": "code",
      "source": [
        "lm = sns.lmplot(x=\"price\", y=\"y\", data=data_df, scatter_kws={\"color\": \"#BC8F8F\"}, line_kws={\"color\": \"#8B4513\"})\n",
        "plt.title(\"Line Plot on Price vs 'y'\", color=\"#774571\", fontsize = 20)\n",
        "plt.show()"
      ],
      "metadata": {
        "execution": {
          "iopub.status.busy": "2022-04-24T05:03:31.287922Z",
          "iopub.execute_input": "2022-04-24T05:03:31.28912Z",
          "iopub.status.idle": "2022-04-24T05:03:36.445465Z",
          "shell.execute_reply.started": "2022-04-24T05:03:31.28905Z",
          "shell.execute_reply": "2022-04-24T05:03:36.444125Z"
        },
        "trusted": true,
        "id": "hpDsgVSyuiCE"
      },
      "execution_count": null,
      "outputs": []
    },
    {
      "cell_type": "code",
      "source": [
        "lm = sns.lmplot(x=\"price\", y=\"z\", data=data_df, scatter_kws={\"color\": \"#BC8F8F\"}, line_kws={\"color\": \"#8B4513\"})\n",
        "plt.title(\"Line Plot on Price vs 'z'\", color=\"#774571\", fontsize = 20)\n",
        "plt.show()"
      ],
      "metadata": {
        "execution": {
          "iopub.status.busy": "2022-04-24T05:03:41.612213Z",
          "iopub.execute_input": "2022-04-24T05:03:41.612569Z",
          "iopub.status.idle": "2022-04-24T05:03:46.577277Z",
          "shell.execute_reply.started": "2022-04-24T05:03:41.612532Z",
          "shell.execute_reply": "2022-04-24T05:03:46.575417Z"
        },
        "trusted": true,
        "id": "FPEb6pQguiCE"
      },
      "execution_count": null,
      "outputs": []
    },
    {
      "cell_type": "code",
      "source": [
        "lm = sns.lmplot(x=\"price\", y=\"depth\", data=data_df, scatter_kws={\"color\": \"#BC8F8F\"}, line_kws={\"color\": \"#8B4513\"})\n",
        "plt.title(\"Line Plot on Price vs 'depth'\", color=\"#774571\", fontsize = 20)\n",
        "plt.show()"
      ],
      "metadata": {
        "execution": {
          "iopub.status.busy": "2022-04-24T05:03:51.260125Z",
          "iopub.execute_input": "2022-04-24T05:03:51.260484Z",
          "iopub.status.idle": "2022-04-24T05:03:56.225388Z",
          "shell.execute_reply.started": "2022-04-24T05:03:51.260446Z",
          "shell.execute_reply": "2022-04-24T05:03:56.224649Z"
        },
        "trusted": true,
        "id": "l1WJmxF1uiCE"
      },
      "execution_count": null,
      "outputs": []
    },
    {
      "cell_type": "code",
      "source": [
        "lm = sns.lmplot(x=\"price\", y=\"table\", data=data_df, scatter_kws={\"color\": \"#BC8F8F\"}, line_kws={\"color\": \"#8B4513\"})\n",
        "plt.title(\"Line Plot on Price vs 'Table'\", color=\"#774571\", fontsize = 20)\n",
        "plt.show()"
      ],
      "metadata": {
        "execution": {
          "iopub.status.busy": "2022-04-24T05:04:01.011207Z",
          "iopub.execute_input": "2022-04-24T05:04:01.011706Z",
          "iopub.status.idle": "2022-04-24T05:04:06.521662Z",
          "shell.execute_reply.started": "2022-04-24T05:04:01.01167Z",
          "shell.execute_reply": "2022-04-24T05:04:06.520821Z"
        },
        "trusted": true,
        "id": "Yn0iELlTuiCE"
      },
      "execution_count": null,
      "outputs": []
    },
    {
      "cell_type": "markdown",
      "source": [
        "### **<span style=\"color:#682F2F;\">Note: </span>**\n",
        "##### In the Line plots of above features, we can easily spot the outliers which we'll drop before feeding the data to the algorithm."
      ],
      "metadata": {
        "id": "MEnjCqtkuiCE"
      }
    },
    {
      "cell_type": "markdown",
      "source": [
        "<a id = \"title-four\"></a>\n",
        "<h1 style='background: #682F2F; border:0; border-radius: 10px; color:white'><center>DATA PREPROCESSING</center></h1>"
      ],
      "metadata": {
        "id": "mtjEpgqxuiCF"
      }
    },
    {
      "cell_type": "markdown",
      "source": [
        "### **<span style=\"color:#682F2F;\"><center>Data Cleaning</center></span>**"
      ],
      "metadata": {
        "id": "w7zDXDDjuiCF"
      }
    },
    {
      "cell_type": "code",
      "source": [
        "# Removing the feature \"Unnamed\"\n",
        "data_df = data_df.drop([\"Unnamed: 0\"], axis=1)\n",
        "data_df.shape"
      ],
      "metadata": {
        "execution": {
          "iopub.status.busy": "2022-04-24T05:04:15.542801Z",
          "iopub.execute_input": "2022-04-24T05:04:15.543608Z",
          "iopub.status.idle": "2022-04-24T05:04:15.554655Z",
          "shell.execute_reply.started": "2022-04-24T05:04:15.543559Z",
          "shell.execute_reply": "2022-04-24T05:04:15.553424Z"
        },
        "trusted": true,
        "id": "1pB6ggr1uiCF"
      },
      "execution_count": null,
      "outputs": []
    },
    {
      "cell_type": "code",
      "source": [
        "# Removing the datapoints having min 0 value in either x, y or z features \n",
        "data_df = data_df.drop(data_df[data_df[\"x\"]==0].index)\n",
        "data_df = data_df.drop(data_df[data_df[\"y\"]==0].index)\n",
        "data_df = data_df.drop(data_df[data_df[\"z\"]==0].index)\n",
        "data_df.shape"
      ],
      "metadata": {
        "execution": {
          "iopub.status.busy": "2022-04-24T05:04:18.023068Z",
          "iopub.execute_input": "2022-04-24T05:04:18.02344Z",
          "iopub.status.idle": "2022-04-24T05:04:18.059875Z",
          "shell.execute_reply.started": "2022-04-24T05:04:18.023399Z",
          "shell.execute_reply": "2022-04-24T05:04:18.059021Z"
        },
        "trusted": true,
        "id": "KD334K7uuiCF"
      },
      "execution_count": null,
      "outputs": []
    },
    {
      "cell_type": "markdown",
      "source": [
        "### **<span style=\"color:#682F2F;\"><center>Removing Outliers</center></span>**"
      ],
      "metadata": {
        "id": "CTK2mdGRuiCF"
      }
    },
    {
      "cell_type": "code",
      "source": [
        "# Dropping the outliers (since we have huge dataset) by defining appropriate measures across features \n",
        "data_df = data_df[(data_df[\"depth\"]<75)&(data_df[\"depth\"]>45)]\n",
        "data_df = data_df[(data_df[\"table\"]<80)&(data_df[\"table\"]>40)]\n",
        "data_df = data_df[(data_df[\"x\"]<40)]\n",
        "data_df = data_df[(data_df[\"y\"]<40)]\n",
        "data_df = data_df[(data_df[\"z\"]<40)&(data_df[\"z\"]>2)]\n",
        "data_df.shape "
      ],
      "metadata": {
        "execution": {
          "iopub.status.busy": "2022-04-24T05:04:24.397951Z",
          "iopub.execute_input": "2022-04-24T05:04:24.398967Z",
          "iopub.status.idle": "2022-04-24T05:04:24.431527Z",
          "shell.execute_reply.started": "2022-04-24T05:04:24.398908Z",
          "shell.execute_reply": "2022-04-24T05:04:24.430408Z"
        },
        "trusted": true,
        "id": "ZgqzTmFHuiCF"
      },
      "execution_count": null,
      "outputs": []
    },
    {
      "cell_type": "markdown",
      "source": [
        "### **<span style=\"color:#682F2F;\"><center>Encoding Categorical Variables</center></span>**"
      ],
      "metadata": {
        "id": "h6PW8ULkuiCG"
      }
    },
    {
      "cell_type": "code",
      "source": [
        "# Making a copy to keep original data in its form intact\n",
        "data1 = data_df.copy()\n",
        "\n",
        "# Applying label encoder to columns with categorical data\n",
        "columns = ['cut','color','clarity']\n",
        "label_encoder = LabelEncoder()\n",
        "for col in columns:\n",
        "    data1[col] = label_encoder.fit_transform(data1[col])\n",
        "data1.describe()"
      ],
      "metadata": {
        "execution": {
          "iopub.status.busy": "2022-04-24T05:04:30.108541Z",
          "iopub.execute_input": "2022-04-24T05:04:30.108839Z",
          "iopub.status.idle": "2022-04-24T05:04:30.224007Z",
          "shell.execute_reply.started": "2022-04-24T05:04:30.108809Z",
          "shell.execute_reply": "2022-04-24T05:04:30.222914Z"
        },
        "trusted": true,
        "id": "2z7X1HvYuiCG"
      },
      "execution_count": null,
      "outputs": []
    },
    {
      "cell_type": "markdown",
      "source": [
        "### **<span style=\"color:#682F2F;\">Note: </span>**\n",
        "##### As categorical features have been converted into numerical columns, we are getting 5-point summary along with count, mean & std for them as well. \n",
        "##### Now, we may analyze correlation matrix after getting done with pre-processing for possible feature selection in order to make our dataset more cleaner, optimal before we feed it into algorithm."
      ],
      "metadata": {
        "id": "u3x2Q5sfuiCG"
      }
    },
    {
      "cell_type": "markdown",
      "source": [
        "### **<span style=\"color:#682F2F;\"><center>Correlation Matrix</center></span>**"
      ],
      "metadata": {
        "id": "qLy8Vy0LuiCG"
      }
    },
    {
      "cell_type": "code",
      "source": [
        "# Examining correlation matrix using heatmap\n",
        "cmap = sns.diverging_palette(205, 133, 63, as_cmap=True)\n",
        "cols = ([\"#682F2F\", \"#9E726F\", \"#D6B2B1\", \"#B9C0C9\", \"#9F8A78\", \"#F3AB60\"])\n",
        "corrmat= data1.corr()\n",
        "f, ax = plt.subplots(figsize=(15,12))\n",
        "sns.heatmap(corrmat,cmap=cols,annot=True)"
      ],
      "metadata": {
        "execution": {
          "iopub.status.busy": "2022-04-24T05:04:35.115995Z",
          "iopub.execute_input": "2022-04-24T05:04:35.116275Z",
          "iopub.status.idle": "2022-04-24T05:04:35.963802Z",
          "shell.execute_reply.started": "2022-04-24T05:04:35.116247Z",
          "shell.execute_reply": "2022-04-24T05:04:35.962826Z"
        },
        "trusted": true,
        "id": "3JX-SHHmuiCH"
      },
      "execution_count": null,
      "outputs": []
    },
    {
      "cell_type": "markdown",
      "source": [
        "### **<span style=\"color:#682F2F;\">Note: </span>**\n",
        "##### Features \"carat\", \"x\", \"y\", \"z\" are highly correlated to our target variable, price. \n",
        "##### Features \"cut\", \"clarity\", \"depth\" are very low correlated (<|0.1|) thus may be removed though due to presence of only few selected features, we won't be doing that."
      ],
      "metadata": {
        "id": "whsUhO59uiCH"
      }
    },
    {
      "cell_type": "markdown",
      "source": [
        "<a id = \"title-five\"></a>\n",
        "<h1 style='background: #682F2F; border:0; border-radius: 10px; color:white'><center>MODEL BUILDING</center></h1>"
      ],
      "metadata": {
        "id": "zSnQZgi5uiCH"
      }
    },
    {
      "cell_type": "code",
      "source": [
        "# Defining the independent and dependent variables\n",
        "X= data1.drop([\"price\"],axis =1)\n",
        "y= data1[\"price\"]\n",
        "X_train, X_test, y_train, y_test = train_test_split(X, y,test_size=0.20, random_state=25)"
      ],
      "metadata": {
        "execution": {
          "iopub.status.busy": "2022-04-24T05:04:45.196876Z",
          "iopub.execute_input": "2022-04-24T05:04:45.19755Z",
          "iopub.status.idle": "2022-04-24T05:04:45.217521Z",
          "shell.execute_reply.started": "2022-04-24T05:04:45.197496Z",
          "shell.execute_reply": "2022-04-24T05:04:45.216715Z"
        },
        "trusted": true,
        "id": "h_PFD0JvuiCH"
      },
      "execution_count": null,
      "outputs": []
    },
    {
      "cell_type": "code",
      "source": [
        "# Building pipelins of standard scaler and model for varios regressors.\n",
        "\n",
        "pipeline_lr=Pipeline([(\"scalar1\",StandardScaler()),\n",
        "                     (\"lr\",LinearRegression())])\n",
        "\n",
        "pipeline_lasso=Pipeline([(\"scalar2\", StandardScaler()),\n",
        "                      (\"lasso\",Lasso())])\n",
        "\n",
        "pipeline_dt=Pipeline([(\"scalar3\",StandardScaler()),\n",
        "                     (\"dt\",DecisionTreeRegressor())])\n",
        "\n",
        "pipeline_rf=Pipeline([(\"scalar4\",StandardScaler()),\n",
        "                     (\"rf\",RandomForestRegressor())])\n",
        "\n",
        "\n",
        "pipeline_kn=Pipeline([(\"scalar5\",StandardScaler()),\n",
        "                     (\"kn\",KNeighborsRegressor())])\n",
        "\n",
        "\n",
        "pipeline_xgb=Pipeline([(\"scalar6\",StandardScaler()),\n",
        "                     (\"xgb\",XGBRegressor())])\n",
        "\n",
        "# List of all the pipelines\n",
        "pipelines = [pipeline_lr, pipeline_lasso, pipeline_dt, pipeline_rf, pipeline_kn, pipeline_xgb]\n",
        "\n",
        "# Dictionary of pipelines and model types for ease of reference\n",
        "pipeline_dict = {0: \"LinearRegression\", 1: \"Lasso\", 2: \"DecisionTree\", 3: \"RandomForest\",4: \"KNeighbors\", 5: \"XGBRegressor\"}\n",
        "\n",
        "# Fit the pipelines\n",
        "for pipe in pipelines:\n",
        "    pipe.fit(X_train, y_train)"
      ],
      "metadata": {
        "execution": {
          "iopub.status.busy": "2022-04-24T05:04:46.844382Z",
          "iopub.execute_input": "2022-04-24T05:04:46.844835Z",
          "iopub.status.idle": "2022-04-24T05:05:07.436784Z",
          "shell.execute_reply.started": "2022-04-24T05:04:46.844802Z",
          "shell.execute_reply": "2022-04-24T05:05:07.435705Z"
        },
        "trusted": true,
        "id": "Gc_nxgZcuiCH"
      },
      "execution_count": null,
      "outputs": []
    },
    {
      "cell_type": "code",
      "source": [
        "cv_results_rms = []\n",
        "for i, model in enumerate(pipelines):\n",
        "    cv_score = cross_val_score(model, X_train,y_train,scoring=\"neg_root_mean_squared_error\", cv=12)\n",
        "    cv_results_rms.append(cv_score)\n",
        "    print(\"%s: %f \" % (pipeline_dict[i], -1 * cv_score.mean()))"
      ],
      "metadata": {
        "execution": {
          "iopub.status.busy": "2022-04-24T05:07:33.926724Z",
          "iopub.execute_input": "2022-04-24T05:07:33.927187Z",
          "iopub.status.idle": "2022-04-24T05:11:20.282607Z",
          "shell.execute_reply.started": "2022-04-24T05:07:33.927156Z",
          "shell.execute_reply": "2022-04-24T05:11:20.28182Z"
        },
        "trusted": true,
        "id": "nEP6f3QeuiCI"
      },
      "execution_count": null,
      "outputs": []
    },
    {
      "cell_type": "code",
      "source": [
        "# Model prediction on test data with XGBClassifier which gave us the least RMSE \n",
        "pred = pipeline_xgb.predict(X_test)\n",
        "print(\"R^2:\",metrics.r2_score(y_test, pred))\n",
        "print(\"Adjusted R^2:\",1 - (1-metrics.r2_score(y_test, pred))*(len(y_test)-1)/(len(y_test)-X_test.shape[1]-1))"
      ],
      "metadata": {
        "execution": {
          "iopub.status.busy": "2022-04-24T05:11:38.827644Z",
          "iopub.execute_input": "2022-04-24T05:11:38.828237Z",
          "iopub.status.idle": "2022-04-24T05:11:38.862928Z",
          "shell.execute_reply.started": "2022-04-24T05:11:38.828194Z",
          "shell.execute_reply": "2022-04-24T05:11:38.861839Z"
        },
        "trusted": true,
        "id": "EuORWAPouiCI"
      },
      "execution_count": null,
      "outputs": []
    },
    {
      "cell_type": "markdown",
      "source": [
        "## **<span style=\"color:#682F2F;\"> 98.27% accuracy with it. We can take the model into production. </span>**\n",
        "\n",
        "\n"
      ],
      "metadata": {
        "id": "e3WuXm8_uiCI"
      }
    }
  ]
}